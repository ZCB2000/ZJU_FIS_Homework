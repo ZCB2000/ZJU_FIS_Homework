{
 "cells": [
  {
   "cell_type": "markdown",
   "metadata": {},
   "source": [
    "# Exercise Questions for Topic 6"
   ]
  },
  {
   "cell_type": "code",
   "execution_count": 2,
   "metadata": {},
   "outputs": [],
   "source": [
    "import numpy as np\n",
    "import pandas as pd"
   ]
  },
  {
   "cell_type": "markdown",
   "metadata": {},
   "source": [
    "## 1"
   ]
  },
  {
   "cell_type": "code",
   "execution_count": 4,
   "metadata": {},
   "outputs": [],
   "source": [
    "df = pd.read_excel(\"Topic6_5.8.xlsx\")"
   ]
  },
  {
   "cell_type": "code",
   "execution_count": 9,
   "metadata": {},
   "outputs": [
    {
     "data": {
      "text/html": [
       "<div>\n",
       "<style scoped>\n",
       "    .dataframe tbody tr th:only-of-type {\n",
       "        vertical-align: middle;\n",
       "    }\n",
       "\n",
       "    .dataframe tbody tr th {\n",
       "        vertical-align: top;\n",
       "    }\n",
       "\n",
       "    .dataframe thead th {\n",
       "        text-align: right;\n",
       "    }\n",
       "</style>\n",
       "<table border=\"1\" class=\"dataframe\">\n",
       "  <thead>\n",
       "    <tr style=\"text-align: right;\">\n",
       "      <th></th>\n",
       "      <th>m</th>\n",
       "      <th>fr</th>\n",
       "      <th>F</th>\n",
       "      <th>Z(0,T)</th>\n",
       "    </tr>\n",
       "  </thead>\n",
       "  <tbody>\n",
       "    <tr>\n",
       "      <td>0</td>\n",
       "      <td>0.25</td>\n",
       "      <td>0.0353</td>\n",
       "      <td>0.991214</td>\n",
       "      <td>0.991214</td>\n",
       "    </tr>\n",
       "    <tr>\n",
       "      <td>1</td>\n",
       "      <td>0.50</td>\n",
       "      <td>0.0358</td>\n",
       "      <td>0.991090</td>\n",
       "      <td>0.982382</td>\n",
       "    </tr>\n",
       "    <tr>\n",
       "      <td>2</td>\n",
       "      <td>0.75</td>\n",
       "      <td>0.0419</td>\n",
       "      <td>0.989580</td>\n",
       "      <td>0.972145</td>\n",
       "    </tr>\n",
       "    <tr>\n",
       "      <td>3</td>\n",
       "      <td>1.00</td>\n",
       "      <td>0.0399</td>\n",
       "      <td>0.990075</td>\n",
       "      <td>0.962496</td>\n",
       "    </tr>\n",
       "    <tr>\n",
       "      <td>4</td>\n",
       "      <td>1.25</td>\n",
       "      <td>0.0454</td>\n",
       "      <td>0.988714</td>\n",
       "      <td>0.951634</td>\n",
       "    </tr>\n",
       "    <tr>\n",
       "      <td>5</td>\n",
       "      <td>1.50</td>\n",
       "      <td>0.0500</td>\n",
       "      <td>0.987578</td>\n",
       "      <td>0.939812</td>\n",
       "    </tr>\n",
       "    <tr>\n",
       "      <td>6</td>\n",
       "      <td>1.75</td>\n",
       "      <td>0.0476</td>\n",
       "      <td>0.988171</td>\n",
       "      <td>0.928695</td>\n",
       "    </tr>\n",
       "    <tr>\n",
       "      <td>7</td>\n",
       "      <td>2.00</td>\n",
       "      <td>0.0588</td>\n",
       "      <td>0.985408</td>\n",
       "      <td>0.915143</td>\n",
       "    </tr>\n",
       "    <tr>\n",
       "      <td>8</td>\n",
       "      <td>2.25</td>\n",
       "      <td>0.0530</td>\n",
       "      <td>0.986837</td>\n",
       "      <td>0.903097</td>\n",
       "    </tr>\n",
       "    <tr>\n",
       "      <td>9</td>\n",
       "      <td>2.50</td>\n",
       "      <td>0.0492</td>\n",
       "      <td>0.987775</td>\n",
       "      <td>0.892057</td>\n",
       "    </tr>\n",
       "    <tr>\n",
       "      <td>10</td>\n",
       "      <td>2.75</td>\n",
       "      <td>0.0609</td>\n",
       "      <td>0.984890</td>\n",
       "      <td>0.878579</td>\n",
       "    </tr>\n",
       "    <tr>\n",
       "      <td>11</td>\n",
       "      <td>3.00</td>\n",
       "      <td>0.0529</td>\n",
       "      <td>0.986862</td>\n",
       "      <td>0.867036</td>\n",
       "    </tr>\n",
       "    <tr>\n",
       "      <td>12</td>\n",
       "      <td>3.25</td>\n",
       "      <td>0.0648</td>\n",
       "      <td>0.983931</td>\n",
       "      <td>0.853103</td>\n",
       "    </tr>\n",
       "    <tr>\n",
       "      <td>13</td>\n",
       "      <td>3.50</td>\n",
       "      <td>0.0620</td>\n",
       "      <td>0.984620</td>\n",
       "      <td>0.839982</td>\n",
       "    </tr>\n",
       "    <tr>\n",
       "      <td>14</td>\n",
       "      <td>3.75</td>\n",
       "      <td>0.0634</td>\n",
       "      <td>0.984275</td>\n",
       "      <td>0.826773</td>\n",
       "    </tr>\n",
       "    <tr>\n",
       "      <td>15</td>\n",
       "      <td>4.00</td>\n",
       "      <td>0.0600</td>\n",
       "      <td>0.985112</td>\n",
       "      <td>0.814464</td>\n",
       "    </tr>\n",
       "    <tr>\n",
       "      <td>16</td>\n",
       "      <td>4.25</td>\n",
       "      <td>0.0599</td>\n",
       "      <td>0.985137</td>\n",
       "      <td>0.802358</td>\n",
       "    </tr>\n",
       "    <tr>\n",
       "      <td>17</td>\n",
       "      <td>4.50</td>\n",
       "      <td>0.0658</td>\n",
       "      <td>0.983685</td>\n",
       "      <td>0.789267</td>\n",
       "    </tr>\n",
       "    <tr>\n",
       "      <td>18</td>\n",
       "      <td>4.75</td>\n",
       "      <td>0.0626</td>\n",
       "      <td>0.984472</td>\n",
       "      <td>0.777012</td>\n",
       "    </tr>\n",
       "    <tr>\n",
       "      <td>19</td>\n",
       "      <td>5.00</td>\n",
       "      <td>0.0669</td>\n",
       "      <td>0.983414</td>\n",
       "      <td>0.764124</td>\n",
       "    </tr>\n",
       "    <tr>\n",
       "      <td>20</td>\n",
       "      <td>5.25</td>\n",
       "      <td>0.0612</td>\n",
       "      <td>0.984816</td>\n",
       "      <td>0.752522</td>\n",
       "    </tr>\n",
       "    <tr>\n",
       "      <td>21</td>\n",
       "      <td>5.50</td>\n",
       "      <td>0.0570</td>\n",
       "      <td>0.985851</td>\n",
       "      <td>0.741875</td>\n",
       "    </tr>\n",
       "    <tr>\n",
       "      <td>22</td>\n",
       "      <td>5.75</td>\n",
       "      <td>0.0681</td>\n",
       "      <td>0.983119</td>\n",
       "      <td>0.729351</td>\n",
       "    </tr>\n",
       "    <tr>\n",
       "      <td>23</td>\n",
       "      <td>6.00</td>\n",
       "      <td>0.0650</td>\n",
       "      <td>0.983881</td>\n",
       "      <td>0.717595</td>\n",
       "    </tr>\n",
       "    <tr>\n",
       "      <td>24</td>\n",
       "      <td>6.25</td>\n",
       "      <td>0.0659</td>\n",
       "      <td>0.983660</td>\n",
       "      <td>0.705869</td>\n",
       "    </tr>\n",
       "    <tr>\n",
       "      <td>25</td>\n",
       "      <td>6.50</td>\n",
       "      <td>0.0706</td>\n",
       "      <td>0.982505</td>\n",
       "      <td>0.693520</td>\n",
       "    </tr>\n",
       "    <tr>\n",
       "      <td>26</td>\n",
       "      <td>6.75</td>\n",
       "      <td>0.0687</td>\n",
       "      <td>0.982972</td>\n",
       "      <td>0.681711</td>\n",
       "    </tr>\n",
       "    <tr>\n",
       "      <td>27</td>\n",
       "      <td>7.00</td>\n",
       "      <td>0.0637</td>\n",
       "      <td>0.984201</td>\n",
       "      <td>0.670940</td>\n",
       "    </tr>\n",
       "  </tbody>\n",
       "</table>\n",
       "</div>"
      ],
      "text/plain": [
       "       m      fr         F    Z(0,T)\n",
       "0   0.25  0.0353  0.991214  0.991214\n",
       "1   0.50  0.0358  0.991090  0.982382\n",
       "2   0.75  0.0419  0.989580  0.972145\n",
       "3   1.00  0.0399  0.990075  0.962496\n",
       "4   1.25  0.0454  0.988714  0.951634\n",
       "5   1.50  0.0500  0.987578  0.939812\n",
       "6   1.75  0.0476  0.988171  0.928695\n",
       "7   2.00  0.0588  0.985408  0.915143\n",
       "8   2.25  0.0530  0.986837  0.903097\n",
       "9   2.50  0.0492  0.987775  0.892057\n",
       "10  2.75  0.0609  0.984890  0.878579\n",
       "11  3.00  0.0529  0.986862  0.867036\n",
       "12  3.25  0.0648  0.983931  0.853103\n",
       "13  3.50  0.0620  0.984620  0.839982\n",
       "14  3.75  0.0634  0.984275  0.826773\n",
       "15  4.00  0.0600  0.985112  0.814464\n",
       "16  4.25  0.0599  0.985137  0.802358\n",
       "17  4.50  0.0658  0.983685  0.789267\n",
       "18  4.75  0.0626  0.984472  0.777012\n",
       "19  5.00  0.0669  0.983414  0.764124\n",
       "20  5.25  0.0612  0.984816  0.752522\n",
       "21  5.50  0.0570  0.985851  0.741875\n",
       "22  5.75  0.0681  0.983119  0.729351\n",
       "23  6.00  0.0650  0.983881  0.717595\n",
       "24  6.25  0.0659  0.983660  0.705869\n",
       "25  6.50  0.0706  0.982505  0.693520\n",
       "26  6.75  0.0687  0.982972  0.681711\n",
       "27  7.00  0.0637  0.984201  0.670940"
      ]
     },
     "execution_count": 9,
     "metadata": {},
     "output_type": "execute_result"
    }
   ],
   "source": [
    "# discount factor F\n",
    "df['F'] = np.exp(-df['fr']*0.25)    # 注意是 continuously compounded\n",
    "df[\"Z(0,T)\"] = df['F'].cumprod()\n",
    "df"
   ]
  },
  {
   "cell_type": "markdown",
   "metadata": {},
   "source": [
    "## 2"
   ]
  },
  {
   "cell_type": "code",
   "execution_count": 27,
   "metadata": {},
   "outputs": [],
   "source": [
    "df = pd.read_excel(\"Topic6_5.10.xlsx\")"
   ]
  },
  {
   "cell_type": "code",
   "execution_count": 28,
   "metadata": {},
   "outputs": [
    {
     "data": {
      "text/plain": [
       "90.3192478561835"
      ]
     },
     "execution_count": 28,
     "metadata": {},
     "output_type": "execute_result"
    }
   ],
   "source": [
    "# 远期价格\n",
    "F = df['z1'][7]/df['z1'][1]\n",
    "P_fwd = 100*F\n",
    "P_fwd"
   ]
  },
  {
   "cell_type": "code",
   "execution_count": 29,
   "metadata": {},
   "outputs": [
    {
     "data": {
      "text/plain": [
       "0.5535918554106611"
      ]
     },
     "execution_count": 29,
     "metadata": {},
     "output_type": "execute_result"
    }
   ],
   "source": [
    "# 购买数量\n",
    "M = 50 / P_fwd\n",
    "M"
   ]
  },
  {
   "cell_type": "markdown",
   "metadata": {},
   "source": [
    "## 3\n",
    "\n",
    "### 3.a"
   ]
  },
  {
   "cell_type": "code",
   "execution_count": 30,
   "metadata": {},
   "outputs": [],
   "source": [
    "df = pd.read_excel(\"Topic6_5.10.xlsx\")"
   ]
  },
  {
   "cell_type": "code",
   "execution_count": 31,
   "metadata": {},
   "outputs": [
    {
     "data": {
      "text/plain": [
       "0.6370470144131746"
      ]
     },
     "execution_count": 31,
     "metadata": {},
     "output_type": "execute_result"
    }
   ],
   "source": [
    "P = df['z2'][5]*100\n",
    "payoff = (P-P_fwd)*M    # 注意乘以数量 M\n",
    "payoff"
   ]
  },
  {
   "cell_type": "markdown",
   "metadata": {},
   "source": [
    "## 4"
   ]
  },
  {
   "cell_type": "code",
   "execution_count": 37,
   "metadata": {},
   "outputs": [],
   "source": [
    "df = pd.read_excel(\"Topic6_5.12.xlsx\").iloc[1::2,:]"
   ]
  },
  {
   "cell_type": "code",
   "execution_count": 39,
   "metadata": {},
   "outputs": [
    {
     "data": {
      "text/html": [
       "<div>\n",
       "<style scoped>\n",
       "    .dataframe tbody tr th:only-of-type {\n",
       "        vertical-align: middle;\n",
       "    }\n",
       "\n",
       "    .dataframe tbody tr th {\n",
       "        vertical-align: top;\n",
       "    }\n",
       "\n",
       "    .dataframe thead th {\n",
       "        text-align: right;\n",
       "    }\n",
       "</style>\n",
       "<table border=\"1\" class=\"dataframe\">\n",
       "  <thead>\n",
       "    <tr style=\"text-align: right;\">\n",
       "      <th></th>\n",
       "      <th>m</th>\n",
       "      <th>y</th>\n",
       "      <th>z</th>\n",
       "      <th>swap_rate</th>\n",
       "    </tr>\n",
       "  </thead>\n",
       "  <tbody>\n",
       "    <tr>\n",
       "      <td>1</td>\n",
       "      <td>0.5</td>\n",
       "      <td>0.0276</td>\n",
       "      <td>0.986295</td>\n",
       "      <td>0.027791</td>\n",
       "    </tr>\n",
       "    <tr>\n",
       "      <td>3</td>\n",
       "      <td>1.0</td>\n",
       "      <td>0.0295</td>\n",
       "      <td>0.970931</td>\n",
       "      <td>0.029704</td>\n",
       "    </tr>\n",
       "    <tr>\n",
       "      <td>5</td>\n",
       "      <td>1.5</td>\n",
       "      <td>0.0298</td>\n",
       "      <td>0.956284</td>\n",
       "      <td>0.030009</td>\n",
       "    </tr>\n",
       "    <tr>\n",
       "      <td>7</td>\n",
       "      <td>2.0</td>\n",
       "      <td>0.0320</td>\n",
       "      <td>0.938005</td>\n",
       "      <td>0.032193</td>\n",
       "    </tr>\n",
       "  </tbody>\n",
       "</table>\n",
       "</div>"
      ],
      "text/plain": [
       "     m       y         z  swap_rate\n",
       "1  0.5  0.0276  0.986295   0.027791\n",
       "3  1.0  0.0295  0.970931   0.029704\n",
       "5  1.5  0.0298  0.956284   0.030009\n",
       "7  2.0  0.0320  0.938005   0.032193"
      ]
     },
     "execution_count": 39,
     "metadata": {},
     "output_type": "execute_result"
    }
   ],
   "source": [
    "# swap rate\n",
    "df['z'] = np.exp(-df['m']*df['y'])\n",
    "df['swap_rate'] = 2*(1-df['z'])/(df['z'].cumsum())\n",
    "df"
   ]
  },
  {
   "cell_type": "code",
   "execution_count": null,
   "metadata": {},
   "outputs": [],
   "source": []
  }
 ],
 "metadata": {
  "kernelspec": {
   "display_name": "Python 3",
   "language": "python",
   "name": "python3"
  },
  "language_info": {
   "codemirror_mode": {
    "name": "ipython",
    "version": 3
   },
   "file_extension": ".py",
   "mimetype": "text/x-python",
   "name": "python",
   "nbconvert_exporter": "python",
   "pygments_lexer": "ipython3",
   "version": "3.7.4"
  }
 },
 "nbformat": 4,
 "nbformat_minor": 4
}
