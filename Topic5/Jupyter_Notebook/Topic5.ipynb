{
 "cells": [
  {
   "cell_type": "markdown",
   "metadata": {},
   "source": [
    "# Exercise Questions for Topic 5"
   ]
  },
  {
   "cell_type": "code",
   "execution_count": 228,
   "metadata": {},
   "outputs": [],
   "source": [
    "import pandas as pd\n",
    "import numpy as np"
   ]
  },
  {
   "cell_type": "markdown",
   "metadata": {},
   "source": [
    "## 1\n",
    "\n",
    "### 1.a"
   ]
  },
  {
   "cell_type": "code",
   "execution_count": 229,
   "metadata": {},
   "outputs": [
    {
     "data": {
      "text/plain": [
       "16"
      ]
     },
     "execution_count": 229,
     "metadata": {},
     "output_type": "execute_result"
    }
   ],
   "source": [
    "# Convexity\n",
    "4**2"
   ]
  },
  {
   "cell_type": "markdown",
   "metadata": {},
   "source": [
    "### 1.b"
   ]
  },
  {
   "cell_type": "code",
   "execution_count": 230,
   "metadata": {},
   "outputs": [
    {
     "data": {
      "text/plain": [
       "4.6977961502894345"
      ]
     },
     "execution_count": 230,
     "metadata": {},
     "output_type": "execute_result"
    }
   ],
   "source": [
    "# Convexity\n",
    "df = pd.read_excel(\"Topic5_4.6.xlsx\").iloc[:9:2,:]\n",
    "df['c_rate'] = [0.05/2,]*4 + [1+0.05/2,]\n",
    "df['z'] = 1/(1+df['yield']/2)**(2*df['m'])\n",
    "df['c'] = df['c_rate']*df['z']\n",
    "df['w'] = df['c']/df['c'].sum()    #weight\n",
    "C = (df['w']*df['m']**2).sum()\n",
    "C"
   ]
  },
  {
   "cell_type": "markdown",
   "metadata": {},
   "source": [
    "### 1.c"
   ]
  },
  {
   "cell_type": "code",
   "execution_count": 231,
   "metadata": {},
   "outputs": [
    {
     "data": {
      "text/plain": [
       "3.8527064229812886"
      ]
     },
     "execution_count": 231,
     "metadata": {},
     "output_type": "execute_result"
    }
   ],
   "source": [
    "# Convexity\n",
    "df = pd.read_excel(\"Topic5_4.6.xlsx\").iloc[:8,:]\n",
    "df['c_rate'] = [0.03/4,]*7+[1+0.03/4,]\n",
    "df['z'] = 1/(1+df['yield']/2)**(2*df['m'])\n",
    "df['c'] = df['c_rate']*df['z']\n",
    "df['w'] = df['c']/df['c'].sum()\n",
    "C = (df['w']*df['m']**2).sum()\n",
    "C"
   ]
  },
  {
   "cell_type": "markdown",
   "metadata": {},
   "source": [
    "### 1.d"
   ]
  },
  {
   "cell_type": "code",
   "execution_count": 232,
   "metadata": {},
   "outputs": [
    {
     "data": {
      "text/plain": [
       "0.27734646850339995"
      ]
     },
     "execution_count": 232,
     "metadata": {},
     "output_type": "execute_result"
    }
   ],
   "source": [
    "# Convexity\n",
    "df = pd.read_excel(\"Topic5_4.6.xlsx\").iloc[1:14:2,:]\n",
    "df['z'] = 1/(1+df['yield']/2)**(2*df['m'])\n",
    "df['c_rate'] = [0.20/200,]*7    # 注意最后一项不加 1\n",
    "df['c'] = df['c_rate']*100*df['z']\n",
    "P = df['c'].sum()+100\n",
    "df['w'] = df['c']/P\n",
    "C = (df['w']*df['m']**2).sum()+100/P*0.5**2\n",
    "C"
   ]
  },
  {
   "cell_type": "markdown",
   "metadata": {},
   "source": [
    "### 1.e"
   ]
  },
  {
   "cell_type": "code",
   "execution_count": 233,
   "metadata": {},
   "outputs": [
    {
     "data": {
      "text/plain": [
       "0.14419671977614545"
      ]
     },
     "execution_count": 233,
     "metadata": {},
     "output_type": "execute_result"
    }
   ],
   "source": [
    "# Convexity\n",
    "df = pd.read_excel(\"Topic5_4.6.xlsx\").iloc[:18:2,:]\n",
    "\n",
    "# s=0的浮动利率债券价格\n",
    "df['z'] = 1/(1+df['yield']/2)**(2*df['m'])\n",
    "r0 = 0.064\n",
    "P_fr = 100*(1+r0/2)*df['z'][0]\n",
    "\n",
    "# s部分的价格\n",
    "df['c_rate'] = [0.35/200,]*9\n",
    "df['c'] = df['c_rate']*df['z']*100\n",
    "P = P_fr + df['c'].sum()\n",
    "\n",
    "C = P_fr/P*0.25**2+(df['c']/P*df['m']**2).sum()\n",
    "C"
   ]
  },
  {
   "cell_type": "markdown",
   "metadata": {},
   "source": [
    "## 2\n",
    "\n",
    "### 2.a"
   ]
  },
  {
   "cell_type": "code",
   "execution_count": 234,
   "metadata": {},
   "outputs": [],
   "source": [
    "df = pd.read_excel(\"Topic5_4.9.xlsx\")\n",
    "df_ = pd.read_excel(\"Topic5_4.8.xlsx\",index_col=0)"
   ]
  },
  {
   "cell_type": "code",
   "execution_count": 235,
   "metadata": {},
   "outputs": [
    {
     "name": "stdout",
     "output_type": "stream",
     "text": [
      "Price = 81.45\n",
      "level        4.0958\n",
      "slope        0.2016\n",
      "curvature    0.9912\n",
      "dtype: float64\n"
     ]
    }
   ],
   "source": [
    "# Price\n",
    "P = 100*df.loc[15,'z1']\n",
    "print(\"Price =\",P)\n",
    "\n",
    "# Factor Duration\n",
    "# linear interpolation\n",
    "print(df_.loc[:'curvature','y3':'y5'].mean(axis=1)*4)"
   ]
  },
  {
   "cell_type": "markdown",
   "metadata": {},
   "source": [
    "### 2.b"
   ]
  },
  {
   "cell_type": "code",
   "execution_count": 236,
   "metadata": {},
   "outputs": [],
   "source": [
    "df = pd.read_excel(\"Topic5_4.9.xlsx\").iloc[1:10:2,:]\n",
    "df_ = pd.read_excel(\"Topic5_4.8.xlsx\",index_col=0)\n",
    "df_ = df_.loc[:\"curvature\",'y2':'y3'].mean(axis=1)    # linear interpolation"
   ]
  },
  {
   "cell_type": "code",
   "execution_count": 237,
   "metadata": {},
   "outputs": [
    {
     "name": "stdout",
     "output_type": "stream",
     "text": [
      "Price = 96.24785\n",
      "level        2.503068\n",
      "slope       -0.597909\n",
      "curvature    0.784278\n",
      "dtype: float64\n"
     ]
    }
   ],
   "source": [
    "# Price and weight\n",
    "df['c_rate'] = [0.03/2,]*4+[1+0.03/2]\n",
    "df['c'] = df['c_rate']*100*df['z1']\n",
    "df['w'] = df['c']/df['c'].sum()\n",
    "P = df['c'].sum()\n",
    "print(\"Price =\",P)\n",
    "\n",
    "# Factor duration\n",
    "print(df_*(df['w']*df['m']).sum())"
   ]
  },
  {
   "cell_type": "markdown",
   "metadata": {},
   "source": [
    "### 2.c"
   ]
  },
  {
   "cell_type": "code",
   "execution_count": 238,
   "metadata": {},
   "outputs": [],
   "source": [
    "df = pd.read_excel(\"Topic5_4.9.xlsx\").iloc[:14:2,:]\n",
    "df_ = pd.read_excel(\"Topic5_4.8.xlsx\",index_col=0)\n",
    "df_ = df_.loc[:\"curvature\",'y3':'y5']\n",
    "df_ = df_.iloc[:,0]+(df_.iloc[:,1]-df_.iloc[:,0])/8"
   ]
  },
  {
   "cell_type": "code",
   "execution_count": 239,
   "metadata": {},
   "outputs": [
    {
     "name": "stdout",
     "output_type": "stream",
     "text": [
      "level        0.257103\n",
      "slope       -0.023550\n",
      "curvature    0.076237\n",
      "dtype: float64\n"
     ]
    }
   ],
   "source": [
    "# Factor Duration\n",
    "print(df_*0.25)"
   ]
  },
  {
   "cell_type": "markdown",
   "metadata": {},
   "source": [
    "### 2.d"
   ]
  },
  {
   "cell_type": "code",
   "execution_count": 240,
   "metadata": {},
   "outputs": [],
   "source": [
    "df= pd.read_excel(\"Topic5_4.9.xlsx\").iloc[:18:2,:]\n",
    "df_ = pd.read_excel(\"Topic5_4.8.xlsx\",index_col=0)\n",
    "df_ = df_.loc[:\"curvature\",'y3':'y5']\n",
    "df_ = df_.iloc[:,0]+(df_.iloc[:,1]-df_.iloc[:,0])*5/8"
   ]
  },
  {
   "cell_type": "code",
   "execution_count": 241,
   "metadata": {},
   "outputs": [
    {
     "name": "stdout",
     "output_type": "stream",
     "text": [
      "level        0.282350\n",
      "slope        0.027228\n",
      "curvature    0.063169\n",
      "dtype: float64\n"
     ]
    }
   ],
   "source": [
    "df['c_rate'] = [0.35/200,]*9\n",
    "df['c'] = df['c_rate']*100*df['z1']\n",
    "P_fr = df['z1'][0]*100*(1+0.064/2)\n",
    "P = df['c'].sum()+P_fr\n",
    "df['w'] = df['c']/P\n",
    "D_ = (df['w']*df['m']).sum()+P_fr/P*0.25\n",
    "D = D_*df_\n",
    "print(D)"
   ]
  },
  {
   "cell_type": "code",
   "execution_count": null,
   "metadata": {},
   "outputs": [],
   "source": []
  },
  {
   "cell_type": "code",
   "execution_count": null,
   "metadata": {},
   "outputs": [],
   "source": []
  }
 ],
 "metadata": {
  "kernelspec": {
   "display_name": "Python 3",
   "language": "python",
   "name": "python3"
  },
  "language_info": {
   "codemirror_mode": {
    "name": "ipython",
    "version": 3
   },
   "file_extension": ".py",
   "mimetype": "text/x-python",
   "name": "python",
   "nbconvert_exporter": "python",
   "pygments_lexer": "ipython3",
   "version": "3.7.4"
  }
 },
 "nbformat": 4,
 "nbformat_minor": 4
}
